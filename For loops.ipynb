{
 "cells": [
  {
   "cell_type": "markdown",
   "id": "0cba464a-c642-4918-ab64-fc3d42da1588",
   "metadata": {},
   "source": [
    "Kullanıcılar tarafından puanlama yapılmaktadır. Bu puanlamamaları gruplandıran ve sayan Python kodlarını yazalım.\n",
    "\n",
    "* Negatif (1-5 puan)\n",
    " * Nötr (6-8 puan)\n",
    " * Olumlu (9-10 puan)"
   ]
  },
  {
   "cell_type": "code",
   "execution_count": 5,
   "id": "801e327c-6025-432b-8060-16078bfaa9d3",
   "metadata": {},
   "outputs": [],
   "source": [
    "def score_counter(score_list):\n",
    "    negative_scores = 0\n",
    "    neutral_scores = 0\n",
    "    positive_scores = 0\n",
    "\n",
    "    for score in score_list:\n",
    "        if score >= 9:\n",
    "            positive_scores += 1\n",
    "        elif score >= 6:\n",
    "            neutral_scores += 1\n",
    "        else:\n",
    "            negative_scores += 1\n",
    "\n",
    "    print('Negative:', negative_scores)\n",
    "    print('Neutral:', neutral_scores)\n",
    "    print('Positive:', positive_scores)"
   ]
  },
  {
   "cell_type": "code",
   "execution_count": 6,
   "id": "68461867-be0f-4c28-addf-b17dea5d1033",
   "metadata": {},
   "outputs": [
    {
     "name": "stdout",
     "output_type": "stream",
     "text": [
      "Test 1:\n",
      "Negative: 5\n",
      "Neutral: 1\n",
      "Positive: 4\n",
      "\n",
      "Test 2:\n",
      "Negative: 85\n",
      "Neutral: 253\n",
      "Positive: 112\n",
      "\n",
      "Test 3:\n",
      "Negative: 1935\n",
      "Neutral: 2652\n",
      "Positive: 5413\n"
     ]
    }
   ],
   "source": [
    "import random\n",
    "random.seed(42)\n",
    "\n",
    "possible_scores = list(range(1,11))\n",
    "score_list1 = random.choices(possible_scores, weights=[8,8,8,8,8,3,3,4,20,30], k=10)\n",
    "score_list2 = random.choices(possible_scores, weights=[1,2,3,4,5,10,15,15,7,9], k=450)\n",
    "score_list3 = random.choices(possible_scores, weights=[1,2,3,4,4,5,5,10,15,25], k=10000)\n",
    "\n",
    "print('Test 1:')            # SHOULD OUTPUT (neg, neut, pos):\n",
    "score_counter(score_list1)  # 5, 1, 4\n",
    "print('\\nTest 2:')\n",
    "score_counter(score_list2)  # 85, 253, 112\n",
    "print('\\nTest 3:')\n",
    "score_counter(score_list3)  # 1935, 2652, 5413"
   ]
  },
  {
   "cell_type": "code",
   "execution_count": 7,
   "id": "0ddf9eb9-8382-447d-a868-3550b8262b05",
   "metadata": {},
   "outputs": [],
   "source": [
    "def id_validator(verified_ids, feedback_ids):\n",
    "    unverified_feedback = 0\n",
    "    for id in feedback_ids:\n",
    "        if id not in verified_ids:\n",
    "            unverified_feedback += 1\n",
    "    percent_unverified = unverified_feedback/len(feedback_ids)*100\n",
    "    print(unverified_feedback, 'of', len(feedback_ids), 'IDs unverified.')\n",
    "    print(str(round(percent_unverified, 2)) + '% unverified.')"
   ]
  },
  {
   "cell_type": "code",
   "execution_count": 8,
   "id": "890c3dbd-ac29-4cee-bcae-76aca56227ff",
   "metadata": {},
   "outputs": [
    {
     "ename": "ModuleNotFoundError",
     "evalue": "No module named 'ada_c2_labs'",
     "output_type": "error",
     "traceback": [
      "\u001b[1;31m---------------------------------------------------------------------------\u001b[0m",
      "\u001b[1;31mModuleNotFoundError\u001b[0m                       Traceback (most recent call last)",
      "Cell \u001b[1;32mIn[8], line 1\u001b[0m\n\u001b[1;32m----> 1\u001b[0m \u001b[38;5;28;01mimport\u001b[39;00m \u001b[38;5;21;01mada_c2_labs\u001b[39;00m \u001b[38;5;28;01mas\u001b[39;00m \u001b[38;5;21;01mlab\u001b[39;00m\n\u001b[0;32m      3\u001b[0m \u001b[38;5;66;03m# TEST SCENARIOS:                                   # SHOULD OUTPUT:\u001b[39;00m\n\u001b[0;32m      4\u001b[0m \u001b[38;5;28mprint\u001b[39m(\u001b[38;5;124m'\u001b[39m\u001b[38;5;124mTest 1:\u001b[39m\u001b[38;5;124m'\u001b[39m)\n",
      "\u001b[1;31mModuleNotFoundError\u001b[0m: No module named 'ada_c2_labs'"
     ]
    }
   ],
   "source": [
    "import ada_c2_labs as lab\n",
    "\n",
    "# TEST SCENARIOS:                                   # SHOULD OUTPUT:\n",
    "print('Test 1:')\n",
    "ver1, fb1 = lab.lists_gen(8, 20, 15, 15)            # 4 of 15 IDs unverified.\n",
    "id_validator(ver1, fb1)                             # 26.67% unverified.\n",
    "\n",
    "print('\\nTest 2:')\n",
    "ver2, fb2 = lab.lists_gen(8, 1000, 900, 600)        # 357 of 900 IDs unverified.\n",
    "id_validator(ver2, fb2)                             # 39.67% unverified.\n",
    "\n",
    "print('\\nTest 3:')\n",
    "ver3, fb3 = lab.lists_gen(8, 15000, 14925, 13788)   # 1208 of 14925 IDs unverified.\n",
    "id_validator(ver3, fb3)                             # 8.09% unverified."
   ]
  },
  {
   "cell_type": "code",
   "execution_count": 9,
   "id": "7a5f3dbd-635e-4f0f-9213-9cf2d801356e",
   "metadata": {},
   "outputs": [],
   "source": [
    "### YOUR CODE HERE ###\n",
    "\n",
    "def purchases_100(sales):\n",
    "    count = 0                           # Set a counter of totals > 100\n",
    "    for customer in sales:              # Loop over each inner list\n",
    "        customer_total = 0              # Set 0 value of purchases for the inner list\n",
    "        for purchase in customer:       # For price in inner list:\n",
    "            customer_total += purchase  # Add the price to value of purchases for inner list\n",
    "        if customer_total >= 100:       # After looping over all prices in inner list, if\n",
    "                                        # total >= 100\n",
    "            count+=1                    # Increment the counter\n",
    "    return count"
   ]
  },
  {
   "cell_type": "code",
   "execution_count": 10,
   "id": "c3352cd1-3100-41eb-b6c9-c412661efb27",
   "metadata": {},
   "outputs": [
    {
     "ename": "ModuleNotFoundError",
     "evalue": "No module named 'ada_c2_labs'",
     "output_type": "error",
     "traceback": [
      "\u001b[1;31m---------------------------------------------------------------------------\u001b[0m",
      "\u001b[1;31mModuleNotFoundError\u001b[0m                       Traceback (most recent call last)",
      "Cell \u001b[1;32mIn[10], line 2\u001b[0m\n\u001b[0;32m      1\u001b[0m \u001b[38;5;66;03m# RUN THIS CELL TO TEST YOUR FUNCTION\u001b[39;00m\n\u001b[1;32m----> 2\u001b[0m \u001b[38;5;28;01mimport\u001b[39;00m \u001b[38;5;21;01mada_c2_labs\u001b[39;00m \u001b[38;5;28;01mas\u001b[39;00m \u001b[38;5;21;01mlab\u001b[39;00m\n\u001b[0;32m      3\u001b[0m sales1 \u001b[38;5;241m=\u001b[39m lab\u001b[38;5;241m.\u001b[39msales_data_generator(n_customers\u001b[38;5;241m=\u001b[39m\u001b[38;5;241m10\u001b[39m, seed\u001b[38;5;241m=\u001b[39m\u001b[38;5;241m1\u001b[39m)   \u001b[38;5;66;03m# SHOULD OUTPUT:\u001b[39;00m\n\u001b[0;32m      4\u001b[0m \u001b[38;5;28mprint\u001b[39m(\u001b[38;5;124m'\u001b[39m\u001b[38;5;124mTest 1:\u001b[39m\u001b[38;5;124m'\u001b[39m, purchases_100(sales1))                     \u001b[38;5;66;03m# 5\u001b[39;00m\n",
      "\u001b[1;31mModuleNotFoundError\u001b[0m: No module named 'ada_c2_labs'"
     ]
    }
   ],
   "source": [
    "# RUN THIS CELL TO TEST YOUR FUNCTION\n",
    "import ada_c2_labs as lab\n",
    "sales1 = lab.sales_data_generator(n_customers=10, seed=1)   # SHOULD OUTPUT:\n",
    "print('Test 1:', purchases_100(sales1))                     # 5\n",
    "\n",
    "sales2 = lab.sales_data_generator(n_customers=150, seed=18)\n",
    "print('Test 2:', purchases_100(sales2))                     # 46\n",
    "\n",
    "sales3 = lab.sales_data_generator(n_customers=1275, seed=42)\n",
    "print('Test 3:', purchases_100(sales3))                     # 470"
   ]
  },
  {
   "cell_type": "code",
   "execution_count": null,
   "id": "f765fe54-e21a-400a-ad06-8df47e2a6e22",
   "metadata": {},
   "outputs": [],
   "source": []
  }
 ],
 "metadata": {
  "kernelspec": {
   "display_name": "Python 3 (ipykernel)",
   "language": "python",
   "name": "python3"
  },
  "language_info": {
   "codemirror_mode": {
    "name": "ipython",
    "version": 3
   },
   "file_extension": ".py",
   "mimetype": "text/x-python",
   "name": "python",
   "nbconvert_exporter": "python",
   "pygments_lexer": "ipython3",
   "version": "3.12.4"
  }
 },
 "nbformat": 4,
 "nbformat_minor": 5
}
