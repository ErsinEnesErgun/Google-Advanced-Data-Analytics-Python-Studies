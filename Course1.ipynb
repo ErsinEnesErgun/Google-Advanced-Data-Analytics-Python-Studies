{
 "cells": [
  {
   "cell_type": "code",
   "execution_count": 1,
   "id": "bbc096c8-492b-4ac3-b2e5-37e2326e66ae",
   "metadata": {},
   "outputs": [
    {
     "name": "stdout",
     "output_type": "stream",
     "text": [
      "Hello, world!\n"
     ]
    }
   ],
   "source": [
    "print(\"Hello, world!\")"
   ]
  },
  {
   "cell_type": "code",
   "execution_count": 2,
   "id": "3a75bce7-9636-43ff-bab5-a85bbd5ecd56",
   "metadata": {},
   "outputs": [
    {
     "name": "stdout",
     "output_type": "stream",
     "text": [
      "22\n"
     ]
    }
   ],
   "source": [
    "print(22)"
   ]
  },
  {
   "cell_type": "code",
   "execution_count": 3,
   "id": "ab7d1525-24f4-46f6-a9c9-66dbcfa4f18d",
   "metadata": {},
   "outputs": [
    {
     "data": {
      "text/plain": [
       "4.0"
      ]
     },
     "execution_count": 3,
     "metadata": {},
     "output_type": "execute_result"
    }
   ],
   "source": [
    "(10 + 2) / 3"
   ]
  },
  {
   "cell_type": "code",
   "execution_count": 4,
   "id": "06f3b8de-aba8-4d1f-a633-c962fbdda1c0",
   "metadata": {},
   "outputs": [
    {
     "name": "stdout",
     "output_type": "stream",
     "text": [
      "Türkiye\n",
      "26\n"
     ]
    }
   ],
   "source": [
    "country = 'Türkiye'\n",
    "age = 26\n",
    "\n",
    "print(country)\n",
    "print(age)"
   ]
  },
  {
   "cell_type": "code",
   "execution_count": 5,
   "id": "4034f45c-53c6-4749-abb4-57d411e0a07b",
   "metadata": {},
   "outputs": [
    {
     "data": {
      "text/plain": [
       "True"
      ]
     },
     "execution_count": 5,
     "metadata": {},
     "output_type": "execute_result"
    }
   ],
   "source": [
    "10**3 == 1000 # Eşdeğerliği kontrol etmek için çift eşittir işaretleri kullanılır."
   ]
  },
  {
   "cell_type": "code",
   "execution_count": 6,
   "id": "cfb8469d-ce08-4728-8876-9d0523111877",
   "metadata": {},
   "outputs": [
    {
     "ename": "SyntaxError",
     "evalue": "cannot assign to expression here. Maybe you meant '==' instead of '='? (2085864018.py, line 1)",
     "output_type": "error",
     "traceback": [
      "\u001b[1;36m  Cell \u001b[1;32mIn[6], line 1\u001b[1;36m\u001b[0m\n\u001b[1;33m    10 ** 3 = 1000\u001b[0m\n\u001b[1;37m    ^\u001b[0m\n\u001b[1;31mSyntaxError\u001b[0m\u001b[1;31m:\u001b[0m cannot assign to expression here. Maybe you meant '==' instead of '='?\n"
     ]
    }
   ],
   "source": [
    "10 ** 3 = 1000"
   ]
  },
  {
   "cell_type": "code",
   "execution_count": 7,
   "id": "f59647c6-a671-4f73-8237-9f5db9c14b20",
   "metadata": {},
   "outputs": [
    {
     "data": {
      "text/plain": [
       "False"
      ]
     },
     "execution_count": 7,
     "metadata": {},
     "output_type": "execute_result"
    }
   ],
   "source": [
    "10 * 3 == 50"
   ]
  },
  {
   "cell_type": "code",
   "execution_count": 8,
   "id": "ebbda583-9ba2-41ae-bd72-7911a11ea66f",
   "metadata": {},
   "outputs": [
    {
     "data": {
      "text/plain": [
       "False"
      ]
     },
     "execution_count": 8,
     "metadata": {},
     "output_type": "execute_result"
    }
   ],
   "source": [
    "10 * 3 == age"
   ]
  },
  {
   "cell_type": "code",
   "execution_count": 9,
   "id": "903cb337-a4f3-4383-9204-114a5bea6f34",
   "metadata": {},
   "outputs": [
    {
     "data": {
      "text/plain": [
       "True"
      ]
     },
     "execution_count": 9,
     "metadata": {},
     "output_type": "execute_result"
    }
   ],
   "source": [
    "13 * 2 == age"
   ]
  },
  {
   "cell_type": "code",
   "execution_count": 10,
   "id": "48e7f26b-cbfb-404c-b091-a2bd62dd31fe",
   "metadata": {},
   "outputs": [
    {
     "name": "stdout",
     "output_type": "stream",
     "text": [
      "Yetişkin\n"
     ]
    }
   ],
   "source": [
    "if age >= 18:\n",
    "    print('Yetişkin')\n",
    "else:\n",
    "    print('Reşit Değil')"
   ]
  },
  {
   "cell_type": "code",
   "execution_count": 11,
   "id": "073ee453-84ab-4310-938b-dfc5202f4528",
   "metadata": {},
   "outputs": [
    {
     "name": "stdout",
     "output_type": "stream",
     "text": [
      "1\n",
      "2\n",
      "3\n",
      "4\n",
      "5\n"
     ]
    }
   ],
   "source": [
    "for number in [1, 2, 3, 4, 5]:\n",
    "    print(number)"
   ]
  },
  {
   "cell_type": "code",
   "execution_count": 12,
   "id": "9c719044-5e9f-4352-94dd-b20c4138d723",
   "metadata": {},
   "outputs": [
    {
     "name": "stdout",
     "output_type": "stream",
     "text": [
      "1.0\n",
      "2.0\n",
      "3.0\n"
     ]
    }
   ],
   "source": [
    "my_list = [3, 6, 9]\n",
    "\n",
    "for x in my_list:\n",
    "    print(x / 3)"
   ]
  },
  {
   "cell_type": "code",
   "execution_count": 13,
   "id": "7fe279b4-005a-49f4-a367-36cad836d0e9",
   "metadata": {},
   "outputs": [],
   "source": [
    "def is_adult(age):\n",
    "\n",
    "    if age >= 18:\n",
    "        print('Yetişkin')\n",
    "    else:\n",
    "        print('Reşit Değil')"
   ]
  },
  {
   "cell_type": "code",
   "execution_count": 14,
   "id": "e6acd8a2-09d0-47b2-9494-bf51bce87c6e",
   "metadata": {},
   "outputs": [
    {
     "name": "stdout",
     "output_type": "stream",
     "text": [
      "Reşit Değil\n"
     ]
    }
   ],
   "source": [
    "is_adult(14)"
   ]
  },
  {
   "cell_type": "code",
   "execution_count": 15,
   "id": "ca98496e-6001-4573-81cc-6a80f90a8e1a",
   "metadata": {},
   "outputs": [
    {
     "name": "stdout",
     "output_type": "stream",
     "text": [
      "Yetişkin\n"
     ]
    }
   ],
   "source": [
    "is_adult(24)"
   ]
  },
  {
   "cell_type": "code",
   "execution_count": 16,
   "id": "f09ee8c1-1997-475b-9058-42be630ac587",
   "metadata": {},
   "outputs": [
    {
     "data": {
      "text/plain": [
       "[5, 8, 10, 20, 25, 26, 32]"
      ]
     },
     "execution_count": 16,
     "metadata": {},
     "output_type": "execute_result"
    }
   ],
   "source": [
    "new_list = [20, 25, 10, 5, 8 , 32 , 26]\n",
    "\n",
    "sorted(new_list)"
   ]
  },
  {
   "cell_type": "code",
   "execution_count": null,
   "id": "5c1d3cf0-1a90-4717-8f0f-554020a54508",
   "metadata": {},
   "outputs": [],
   "source": []
  }
 ],
 "metadata": {
  "kernelspec": {
   "display_name": "Python 3 (ipykernel)",
   "language": "python",
   "name": "python3"
  },
  "language_info": {
   "codemirror_mode": {
    "name": "ipython",
    "version": 3
   },
   "file_extension": ".py",
   "mimetype": "text/x-python",
   "name": "python",
   "nbconvert_exporter": "python",
   "pygments_lexer": "ipython3",
   "version": "3.12.4"
  }
 },
 "nbformat": 4,
 "nbformat_minor": 5
}
