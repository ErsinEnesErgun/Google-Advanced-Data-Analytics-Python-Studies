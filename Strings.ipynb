{
 "cells": [
  {
   "cell_type": "markdown",
   "id": "babf8bcb-83e6-4e0d-afeb-b6ab8e058b7b",
   "metadata": {},
   "source": [
    "## Task 1: Check and change data types\r\n",
    "\n",
    "Now that you have experience in marketing, you've moved on to market research. Your new task is collecting store data for future analysis. In this task, you're given a four-digit numeric store ID stored in a variable called store_id.\r\n",
    "\r\n",
    "Convert store_id to a string and store the result in the same variable.\r\n",
    "Confirm the type of store_id after the conversion."
   ]
  },
  {
   "cell_type": "code",
   "execution_count": 1,
   "id": "14082d2b-e964-4b14-a692-5e25ad62bb3b",
   "metadata": {},
   "outputs": [
    {
     "name": "stdout",
     "output_type": "stream",
     "text": [
      "<class 'str'>\n"
     ]
    }
   ],
   "source": [
    "store_id = 1101\n",
    "\n",
    "# 1. ### YOUR CODE HERE ###\n",
    "store_id = str(store_id)\n",
    "\n",
    "# 2. ### YOUR CODE HERE ###\n",
    "print(type(store_id))"
   ]
  },
  {
   "cell_type": "markdown",
   "id": "1d0730a4-98d9-4a57-9c04-896d62a41165",
   "metadata": {},
   "source": [
    "## Task 2: String concatenation\r\n",
    "\n",
    "As you continue gathering data, you realize that the store_id variable is actually the ZIP Code where the store is located, but the leading 0 has been cut off.\r\n",
    "\r\n",
    "Define a function called zip_checker that accepts the following argument:\r\n",
    "\r\n",
    "zipcode - a string with either four or five characters\r\n",
    "Return:\r\n",
    "\r\n",
    "If zipcode has five characters, and the first two characters are NOT '00', return zipcode as a string. Otherwise, return 'Invalid ZIP Code.'. (ZIP Codes do not begin with 00 in the mainland U.S.)\r\n",
    "If zipcode has four characters and the first character is NOT '0', the function must add a zero to the beginning of the string and return the five-character zipcode as a string.\r\n",
    "If zipcode has four characters and the first character is '0', the function must return 'Invalid ZIP Code.'.\r\n",
    "Example:\r\n",
    "\r\n",
    " [IN] zip_checker('02806')\r\n",
    "[OUT] '02806'\r\n",
    "\r\n",
    " [IN] zip_checker('2806')\r\n",
    "[OUT] '02806'\r\n",
    "\r\n",
    " [IN] zip_checker('0280')\r\n",
    "[OUT] 'Invalid ZIP Code.'\r\n",
    "\r\n",
    " [IN] zip_checker('00280')\r\n",
    "[OUT] 'Invalid ZIP Code.'\r\n",
    "Note that there is more than one way to solve this problem."
   ]
  },
  {
   "cell_type": "code",
   "execution_count": 2,
   "id": "f175806c-95d1-4cd9-bff0-10a5ac223d00",
   "metadata": {},
   "outputs": [],
   "source": [
    "### YOUR CODE HERE ###\n",
    "def zip_checker(zipcode):\n",
    "    if len(zipcode) == 5:\n",
    "        if zipcode[0:2] =='00':\n",
    "            return 'Invalid ZIP Code.'\n",
    "        else:\n",
    "            return zipcode\n",
    "    elif zipcode[0] != '0':\n",
    "        zipcode = '0' + zipcode\n",
    "        return zipcode\n",
    "    else:\n",
    "        return 'Invalid ZIP Code.'"
   ]
  },
  {
   "cell_type": "code",
   "execution_count": 3,
   "id": "a418f4ab-ab82-4df8-b9a9-936a063960f6",
   "metadata": {},
   "outputs": [
    {
     "name": "stdout",
     "output_type": "stream",
     "text": [
      "02806\n",
      "02806\n",
      "Invalid ZIP Code.\n",
      "Invalid ZIP Code.\n"
     ]
    }
   ],
   "source": [
    "print(zip_checker('02806'))     # Should return 02806.\n",
    "print(zip_checker('2806'))      # Should return 02806.\n",
    "print(zip_checker('0280'))      # Should return 'Invalid ZIP Code.'\n",
    "print(zip_checker('00280'))     # Should return 'Invalid ZIP Code.'"
   ]
  },
  {
   "cell_type": "markdown",
   "id": "cecebca6-9654-4fb2-9665-ae2063c5eb87",
   "metadata": {},
   "source": [
    "## Task 3: Extract the store ID\r\n",
    "\r\n",
    "Now imagine that you've been provided `url`, which is a URL containing the store's actual ID at the end of it.\r\n",
    "\r\n",
    "1.  Extract the seven-character store ID from the end of `url` and assign the result to a variable called `id`.\r\n",
    "2.  Print the contents of `id`. id."
   ]
  },
  {
   "cell_type": "code",
   "execution_count": 4,
   "id": "6aa73a17-e6ff-4bdb-ad85-f41f3c168090",
   "metadata": {},
   "outputs": [
    {
     "name": "stdout",
     "output_type": "stream",
     "text": [
      "r626c36\n"
     ]
    }
   ],
   "source": [
    "url = \"https://exampleURL1.com/r626c36\"\n",
    "\n",
    "# 1. ### YOUR CODE HERE ###\n",
    "id = url[-7:]\n",
    "\n",
    "# 2. ### YOUR CODE HERE ###\n",
    "print(id)"
   ]
  },
  {
   "cell_type": "markdown",
   "id": "59842f6a-d1d8-4b0d-b50f-3e9591f96d85",
   "metadata": {},
   "source": [
    "## Task 4: String extraction function\r\n",
    "\r\n",
    "You have many URLs that contain store IDs, but many of them are invalid&mdash;either because they use an invalid protocol (the beginning of the URL) or because the store ID is not seven characters long.\r\n",
    "\r\n",
    "*  The correct URL protocol is `https:` Anything else is invalid.\r\n",
    "*  A valid store ID must have exactly seven characters.\r\n",
    "\r\n",
    "\r\n",
    "\r\n",
    "Define a function called `url_checker` that accepts the following argument:\r\n",
    "*  `url` - a URL string\r\n",
    "\r\n",
    "Return:\r\n",
    "*  If both the protocol and the store ID are invalid:\r\n",
    "    * print two lines: <br/>\r\n",
    "    `'{protocol} is an invalid protocol.'` <br/>\r\n",
    "    `'{store_id} is an invalid store ID.'` <br/>\r\n",
    "*  If only the protocol is invalid:\r\n",
    "    * print: <br/>\r\n",
    "    `'{protocol} is an invalid protocol.'` <br/>\r\n",
    "*  If only the store ID is invalid:\r\n",
    "    * print: <br/>\r\n",
    "        `'{store_id} is an invalid store ID.'` <br/>\r\n",
    "*  If both the protocol and the store ID are valid, return the store ID.\r\n",
    "\r\n",
    "In the above cases, `{protocol}` is a string of the protocol and `{store_id}` is a string of the store ID.\r\n",
    "\r\n",
    "*Example:*\r\n",
    "\r\n",
    "```\r\n",
    " [IN] url_checker('http://exampleURL1.com/r626c3')\r\n",
    "[OUT] 'http: is an invalid protocol.'\r\n",
    "      'r626c3 is an invalid store ID.'\r\n",
    "\r\n",
    " [IN] url_checker('ftps://exampleURL1.com/r626c36')\r\n",
    "[OUT] 'ftps: is an invalid protocol.'\r\n",
    "\r\n",
    " [IN] url_checker('https://exampleURL1.com/r626c3')\r\n",
    "[OUT] 'r626c3 is an invalid store ID.'\r\n",
    "\r\n",
    " [IN] url_checker('https://exampleURL1.com/r626c36')\r\n",
    "[OUT] 'r626c36'\r\n",
    "```\r\n",
    "\r\n",
    "**Note that there is more than one way to solve this problem.**"
   ]
  },
  {
   "cell_type": "code",
   "execution_count": 5,
   "id": "299ed996-fd8f-44b9-8214-2fdc286ba1c5",
   "metadata": {},
   "outputs": [],
   "source": [
    "# Sample valid URL for reference while writing your function:\n",
    "url = 'https://exampleURL1.com/r626c36'\n",
    "\n",
    "### YOUR CODE HERE ###\n",
    "def url_checker(url):\n",
    "    url = url.split('/')\n",
    "    protocol = url[0]\n",
    "    store_id = url[-1]\n",
    "    # If both protocol and store_id bad\n",
    "    if protocol != 'https:' and len(store_id) != 7:\n",
    "        print(f'{protocol} is an invalid protocol.',\n",
    "            f'\\n{store_id} is an invalid store ID.')\n",
    "    # If just protocol bad\n",
    "    elif protocol != 'https:':\n",
    "        print(f'{protocol} is an invalid protocol.')\n",
    "    # If just store_id bad\n",
    "    elif len(store_id) != 7:\n",
    "        print(f'{store_id} is an invalid store ID.')\n",
    "    # If all ok\n",
    "    else:\n",
    "        return store_id"
   ]
  },
  {
   "cell_type": "code",
   "execution_count": 6,
   "id": "090dfc61-b017-40ab-830a-ba2a00678dab",
   "metadata": {},
   "outputs": [
    {
     "name": "stdout",
     "output_type": "stream",
     "text": [
      "http: is an invalid protocol. \n",
      "r626c3 is an invalid store ID.\n",
      "\n",
      "ftps: is an invalid protocol.\n",
      "\n",
      "r626c3 is an invalid store ID.\n",
      "\n"
     ]
    },
    {
     "data": {
      "text/plain": [
       "'r626c36'"
      ]
     },
     "execution_count": 6,
     "metadata": {},
     "output_type": "execute_result"
    }
   ],
   "source": [
    "                                                # Should return:\n",
    "url_checker('http://exampleURL1.com/r626c3')    # 'http: is an invalid protocol.'\n",
    "print()                                         # 'r626c3 is an invalid store ID.'\n",
    "\n",
    "url_checker('ftps://exampleURL1.com/r626c36')   # 'ftps: is an invalid protocol.\n",
    "print()\n",
    "url_checker('https://exampleURL1.com/r626c3')   # 'r626c3 is an invalid store ID.'\n",
    "print()\n",
    "url_checker('https://exampleURL1.com/r626c36')  # 'r626c36'"
   ]
  },
  {
   "cell_type": "code",
   "execution_count": null,
   "id": "e6d173ba-cf17-40a2-b78b-7548b17f0850",
   "metadata": {},
   "outputs": [],
   "source": []
  }
 ],
 "metadata": {
  "kernelspec": {
   "display_name": "Python 3 (ipykernel)",
   "language": "python",
   "name": "python3"
  },
  "language_info": {
   "codemirror_mode": {
    "name": "ipython",
    "version": 3
   },
   "file_extension": ".py",
   "mimetype": "text/x-python",
   "name": "python",
   "nbconvert_exporter": "python",
   "pygments_lexer": "ipython3",
   "version": "3.12.4"
  }
 },
 "nbformat": 4,
 "nbformat_minor": 5
}
