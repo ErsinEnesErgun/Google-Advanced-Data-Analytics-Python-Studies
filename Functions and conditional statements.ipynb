{
 "cells": [
  {
   "cell_type": "code",
   "execution_count": 1,
   "id": "ebea233b-6cb4-49a8-a247-5ab17d31756e",
   "metadata": {},
   "outputs": [
    {
     "data": {
      "text/plain": [
       "int"
      ]
     },
     "execution_count": 1,
     "metadata": {},
     "output_type": "execute_result"
    }
   ],
   "source": [
    "number = 15\n",
    "\n",
    "type(number)"
   ]
  },
  {
   "cell_type": "code",
   "execution_count": 2,
   "id": "3d55ee14-fd44-4502-be5f-fa561f75cb39",
   "metadata": {},
   "outputs": [
    {
     "data": {
      "text/plain": [
       "str"
      ]
     },
     "execution_count": 2,
     "metadata": {},
     "output_type": "execute_result"
    }
   ],
   "source": [
    "number = str(number)\n",
    "\n",
    "type(number)\n"
   ]
  },
  {
   "cell_type": "code",
   "execution_count": 3,
   "id": "c3cfbf87-c1c2-4c40-a5c0-7bcbb0648cd6",
   "metadata": {},
   "outputs": [
    {
     "name": "stdout",
     "output_type": "stream",
     "text": [
      "Welcome, Ersin!\n",
      "You are part of the team!\n"
     ]
    }
   ],
   "source": [
    "def greeting(name):\n",
    "\n",
    "    print('Welcome, ' + name + '!')\n",
    "    print('You are part of the team!')\n",
    "\n",
    "greeting('Ersin')"
   ]
  },
  {
   "cell_type": "code",
   "execution_count": 4,
   "id": "1796e258-20e4-4358-b233-1e9847dbf1cd",
   "metadata": {},
   "outputs": [],
   "source": [
    "# Üçgenin alanını hesaplamak için bir fonksiyon tanımlayalım.\n",
    "def area_triangle(base, height):\n",
    "    return base * height / 2"
   ]
  },
  {
   "cell_type": "code",
   "execution_count": 5,
   "id": "8a09a64b-fef8-431f-906b-67624d92b3e3",
   "metadata": {},
   "outputs": [
    {
     "data": {
      "text/plain": [
       "20.5"
      ]
     },
     "execution_count": 5,
     "metadata": {},
     "output_type": "execute_result"
    }
   ],
   "source": [
    "# Yeni değişkenler atamak ve hesaplamalar yapmak için işlevi kullanalım\n",
    "area_a = area_triangle(5, 4)\n",
    "area_b = area_triangle(7, 3)\n",
    "total_area = area_a + area_b\n",
    "total_area"
   ]
  },
  {
   "cell_type": "code",
   "execution_count": 6,
   "id": "cf676c54-d57a-4314-be3b-03f5f720fc6a",
   "metadata": {},
   "outputs": [],
   "source": [
    "def get_seconds(hours, minutes, seconds):\n",
    "    total_seconds = 3600*hours + 60*minutes + seconds\n",
    "    return total_seconds"
   ]
  },
  {
   "cell_type": "code",
   "execution_count": 7,
   "id": "c3e4dc86-227c-407c-aea8-20f70e21cd77",
   "metadata": {},
   "outputs": [
    {
     "data": {
      "text/plain": [
       "60320"
      ]
     },
     "execution_count": 7,
     "metadata": {},
     "output_type": "execute_result"
    }
   ],
   "source": [
    "get_seconds(16, 45, 20)"
   ]
  },
  {
   "cell_type": "code",
   "execution_count": 8,
   "id": "151bd87e-32ba-4464-b3bc-291787c4d16e",
   "metadata": {},
   "outputs": [
    {
     "name": "stdout",
     "output_type": "stream",
     "text": [
      "Merhaba Ersin. Şanslı sayın 45\n",
      "Merhaba Enes. Şanslı sayın 36\n"
     ]
    }
   ],
   "source": [
    "name = \"Ersin\"\n",
    "number = len(name)*9\n",
    "print(\"Merhaba \" + name + \". Şanslı sayın \" + str(number))\n",
    "\n",
    "name = \"Enes\"\n",
    "number = len(name)*9\n",
    "print(\"Merhaba \" + name + \". Şanslı sayın \" + str(number))"
   ]
  },
  {
   "cell_type": "code",
   "execution_count": 9,
   "id": "03cec33f-dcd9-47b5-b386-3fca500ea123",
   "metadata": {},
   "outputs": [
    {
     "name": "stdout",
     "output_type": "stream",
     "text": [
      "Merhaba Ersin. Şanslı sayın 45\n",
      "Merhaba Enes. Şanslı sayın 36\n"
     ]
    }
   ],
   "source": [
    "# Yukarıdaki kodu basitleştiren ve tekrar kullanılabilir hale getiren bir fonksiyon tanımlayalım.\n",
    "def lucky_number(name):\n",
    "    number = len(name)*9\n",
    "    print(\"Merhaba \" + name + \". Şanslı sayın \" + str(number))\n",
    "\n",
    "lucky_number(\"Ersin\")\n",
    "lucky_number(\"Enes\")"
   ]
  },
  {
   "cell_type": "code",
   "execution_count": 11,
   "id": "66ca52d8-aaf9-4f66-95e6-673e2a730f9a",
   "metadata": {},
   "outputs": [
    {
     "name": "stdin",
     "output_type": "stream",
     "text": [
      " 5\n"
     ]
    },
    {
     "name": "stdout",
     "output_type": "stream",
     "text": [
      "1\n",
      "2\n",
      "6\n",
      "24\n",
      "120\n"
     ]
    }
   ],
   "source": [
    "# Bu kod kullanıcıdan bir sayı ister ve faktöriyelini döndürür.\n",
    "\n",
    "a = input(); y = 1\n",
    "\n",
    "for i in range(int(a)):\n",
    "    y = y*(i+1)\n",
    "    print(y)\n"
   ]
  },
  {
   "cell_type": "code",
   "execution_count": 12,
   "id": "897994df-70f4-4deb-a64a-a26100bba46d",
   "metadata": {},
   "outputs": [
    {
     "name": "stdin",
     "output_type": "stream",
     "text": [
      " 5\n"
     ]
    },
    {
     "name": "stdout",
     "output_type": "stream",
     "text": [
      "120\n"
     ]
    }
   ],
   "source": [
    "# Bu fonksiyon girdi olarak bir tamsayıyı alır ve onun faktöriyelini döndürür.\n",
    "def factorial(n):\n",
    "    \n",
    "    y = 1\n",
    "    for i in range(int(n)):\n",
    "        y = y*(i+1)\n",
    "    return y\n",
    "\n",
    "\n",
    "input_num = input()\n",
    "\n",
    "print(factorial(input_num))"
   ]
  },
  {
   "cell_type": "code",
   "execution_count": 13,
   "id": "0175a671-3001-44bc-ab4f-18b724718d8e",
   "metadata": {},
   "outputs": [],
   "source": [
    "def seed_calculator(fountain_side, grass_width):\n",
    "    \"\"\"\n",
    "    Calculate number of kilograms of grass seed needed for\n",
    "    a border around a square fountain.\n",
    "\n",
    "        Parameters:\n",
    "            fountain_side (num): length of 1 side of fountain in meters\n",
    "            grass_width (num): width of grass border in meters\n",
    "\n",
    "        Returns:\n",
    "            seed (float): amount of seed (kg) needed for grass border\n",
    "    \"\"\"\n",
    "    # Area of fountain\n",
    "    fountain_area = fountain_side**2\n",
    "    # Total area\n",
    "    total_area = (fountain_side + 2 * grass_width)**2\n",
    "    # Area of grass border\n",
    "    grass_area = total_area - fountain_area\n",
    "    # Amount of seed needed (35 g/sq.m)\n",
    "    seed = grass_area * 35\n",
    "    # Convert to kg\n",
    "    seed = seed / 1000\n",
    "\n",
    "    return seed"
   ]
  },
  {
   "cell_type": "code",
   "execution_count": 14,
   "id": "d95e39b2-b5f2-474f-8de5-e554a6f6bbc5",
   "metadata": {},
   "outputs": [
    {
     "data": {
      "text/plain": [
       "3.92"
      ]
     },
     "execution_count": 14,
     "metadata": {},
     "output_type": "execute_result"
    }
   ],
   "source": [
    "seed_calculator(12, 2)"
   ]
  },
  {
   "cell_type": "markdown",
   "id": "d9c91be3-1ff4-4959-a628-906f311649e4",
   "metadata": {},
   "source": [
    "** Operatörleri kullanarak karşılaştırmalar yapabiliriz"
   ]
  },
  {
   "cell_type": "code",
   "execution_count": 15,
   "id": "ed540060-0cdc-4be7-bbd7-c62b86f84f5d",
   "metadata": {},
   "outputs": [
    {
     "name": "stdout",
     "output_type": "stream",
     "text": [
      "True\n"
     ]
    }
   ],
   "source": [
    "print(10>1)"
   ]
  },
  {
   "cell_type": "code",
   "execution_count": 16,
   "id": "56362621-f45f-46c9-88d8-2b2a76f03201",
   "metadata": {},
   "outputs": [
    {
     "name": "stdout",
     "output_type": "stream",
     "text": [
      "False\n"
     ]
    }
   ],
   "source": [
    "print(\"cat\" == \"dog\")"
   ]
  },
  {
   "cell_type": "code",
   "execution_count": 17,
   "id": "525f48d7-59eb-43c4-8285-ce6ac588b725",
   "metadata": {},
   "outputs": [
    {
     "name": "stdout",
     "output_type": "stream",
     "text": [
      "True\n"
     ]
    }
   ],
   "source": [
    "print(1 != 2)"
   ]
  },
  {
   "cell_type": "code",
   "execution_count": 18,
   "id": "22a4c267-6ee3-4dfc-88a3-011cd66b43fe",
   "metadata": {},
   "outputs": [
    {
     "name": "stdout",
     "output_type": "stream",
     "text": [
      "False\n"
     ]
    }
   ],
   "source": [
    "# Letters that occur earlier in the alphabet evaluate to less than letters from later in the alphabet.\n",
    "# BOTH sides of an `and` statement must be true to return True.\n",
    "print(\"Yellow\" > \"Cyan\" and \"Brown\" > \"Magenta\")"
   ]
  },
  {
   "cell_type": "code",
   "execution_count": 19,
   "id": "368edd11-9889-44a6-a1ff-af39a031f1d8",
   "metadata": {},
   "outputs": [
    {
     "name": "stdout",
     "output_type": "stream",
     "text": [
      "True\n"
     ]
    }
   ],
   "source": [
    "print(25 > 50 or 1 != 2)"
   ]
  },
  {
   "cell_type": "code",
   "execution_count": 20,
   "id": "e517718a-1f4c-4747-96f3-72fcec55a9d7",
   "metadata": {},
   "outputs": [
    {
     "name": "stdout",
     "output_type": "stream",
     "text": [
      "True\n"
     ]
    }
   ],
   "source": [
    "print(not 42 == \"Answer\")"
   ]
  },
  {
   "cell_type": "markdown",
   "id": "b760e5b4-2411-413a-93b4-8a2dab989a69",
   "metadata": {},
   "source": [
    "Karar vermek için if/elif/else koşul ifadelerini kullanırız"
   ]
  },
  {
   "cell_type": "code",
   "execution_count": 21,
   "id": "59729e8d-3539-42c1-9ffd-1eebd69282bf",
   "metadata": {},
   "outputs": [],
   "source": [
    "def hint_username(username):\n",
    "    if len(username) < 8:\n",
    "        print(\"Invalid username. Must be at least 8 characters long.\")\n",
    "    else:\n",
    "        print(\"Valid username.\")"
   ]
  },
  {
   "cell_type": "code",
   "execution_count": 22,
   "id": "5c565160-e312-427d-b98e-c9d9193ba732",
   "metadata": {},
   "outputs": [],
   "source": [
    "def is_even(number):\n",
    "    if number % 2 == 0:\n",
    "        return True\n",
    "    return False"
   ]
  },
  {
   "cell_type": "code",
   "execution_count": 23,
   "id": "3cdbffa5-a487-4321-81cf-073023ab7916",
   "metadata": {},
   "outputs": [
    {
     "data": {
      "text/plain": [
       "False"
      ]
     },
     "execution_count": 23,
     "metadata": {},
     "output_type": "execute_result"
    }
   ],
   "source": [
    "is_even(19)"
   ]
  },
  {
   "cell_type": "code",
   "execution_count": 24,
   "id": "1cf05357-c821-4a79-92ce-6bef0acbc34d",
   "metadata": {},
   "outputs": [
    {
     "data": {
      "text/plain": [
       "True"
      ]
     },
     "execution_count": 24,
     "metadata": {},
     "output_type": "execute_result"
    }
   ],
   "source": [
    "is_even(20)"
   ]
  },
  {
   "cell_type": "code",
   "execution_count": 25,
   "id": "711648f9-26ed-4791-931e-a3cccd109f22",
   "metadata": {},
   "outputs": [],
   "source": [
    "# Kullanıcı adının geçerliliğini uzunluğa göre kontrol eden bir fonksiyon tanımlayalım.\n",
    "def hint_username(username):\n",
    "    if len(username) < 8:\n",
    "        print(\"Invalid username. Must be at least 8 characters long.\")\n",
    "    elif len(username) > 15:\n",
    "        print(\"Invalid username. Cannot exceed 15 characters.\")\n",
    "    else:\n",
    "        print(\"Valid username.\")"
   ]
  },
  {
   "cell_type": "code",
   "execution_count": 26,
   "id": "630d99da-3e21-4cf6-9aff-84632ffb9fbd",
   "metadata": {},
   "outputs": [
    {
     "name": "stdout",
     "output_type": "stream",
     "text": [
      "Invalid username. Cannot exceed 15 characters.\n"
     ]
    }
   ],
   "source": [
    "hint_username(\"ljñkljfñklasdjflkñadjglk{a\")"
   ]
  },
  {
   "cell_type": "code",
   "execution_count": 27,
   "id": "10b3bfec-7ef6-4284-8d6d-f3f3e5704bf2",
   "metadata": {},
   "outputs": [
    {
     "name": "stdout",
     "output_type": "stream",
     "text": [
      "Valid username.\n"
     ]
    }
   ],
   "source": [
    "hint_username(\"Ersin1234\")"
   ]
  },
  {
   "cell_type": "code",
   "execution_count": null,
   "id": "9080e1ec-cff6-4617-b33d-be19c8cd3a51",
   "metadata": {},
   "outputs": [],
   "source": []
  }
 ],
 "metadata": {
  "kernelspec": {
   "display_name": "Python 3 (ipykernel)",
   "language": "python",
   "name": "python3"
  },
  "language_info": {
   "codemirror_mode": {
    "name": "ipython",
    "version": 3
   },
   "file_extension": ".py",
   "mimetype": "text/x-python",
   "name": "python",
   "nbconvert_exporter": "python",
   "pygments_lexer": "ipython3",
   "version": "3.12.4"
  }
 },
 "nbformat": 4,
 "nbformat_minor": 5
}
